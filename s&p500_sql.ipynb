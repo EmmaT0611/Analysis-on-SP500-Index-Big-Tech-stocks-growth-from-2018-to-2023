{
 "cells": [
  {
   "cell_type": "markdown",
   "id": "ab4ef920",
   "metadata": {},
   "source": [
    "# Load data to SQL "
   ]
  },
  {
   "cell_type": "markdown",
   "id": "34dc77e9",
   "metadata": {},
   "source": [
    "Objective: \n",
    "\n",
    "1. Allow public access\n",
    "2. To pull target data for further analysis\n",
    "3. Ease of doing query"
   ]
  },
  {
   "cell_type": "markdown",
   "id": "8bb2e829",
   "metadata": {},
   "source": [
    "Questions to Answer: \n",
    "\n",
    "1. Identify top sectors contributing to S&P500 performance.\n",
    "\n",
    "Prepare data to:  \n",
    "a. Find out the top sectors growth over time\n",
    "\n",
    "b. Rate of return from top sectors over time"
   ]
  },
  {
   "cell_type": "code",
   "execution_count": 1,
   "id": "55061c58",
   "metadata": {},
   "outputs": [],
   "source": [
    "import pandas as pd\n",
    "stock_info = pd.read_csv('sp500_name_info.csv')\n",
    "stock_price = pd.read_csv('sp500_stocksprice2019_23.csv')"
   ]
  },
  {
   "cell_type": "code",
   "execution_count": 2,
   "id": "9e52d464",
   "metadata": {},
   "outputs": [
    {
     "data": {
      "text/plain": [
       "503"
      ]
     },
     "execution_count": 2,
     "metadata": {},
     "output_type": "execute_result"
    }
   ],
   "source": [
    "#connecting to SQLite\n",
    "\n",
    "import sqlite3\n",
    "conn = sqlite3.connect(r\"C:\\Users\\chinf\\IOD\\0_miniprojects\\1_sharesnalyzer\\mp1_sharesnalyzer\\s&p500.db\")\n",
    "c = conn.cursor()\n",
    "\n",
    "#Load data to table in SQL db\n",
    "stock_info.to_sql('sp500_name_info', con = conn, if_exists = 'replace', index = False)"
   ]
  },
  {
   "cell_type": "code",
   "execution_count": 3,
   "id": "a8c32655",
   "metadata": {},
   "outputs": [
    {
     "data": {
      "text/plain": [
       "575937"
      ]
     },
     "execution_count": 3,
     "metadata": {},
     "output_type": "execute_result"
    }
   ],
   "source": [
    "#Load data to table in SQL db\n",
    "stock_price.to_sql('sp500_price', con = conn, if_exists = 'replace', index = False)"
   ]
  },
  {
   "cell_type": "code",
   "execution_count": 4,
   "id": "5f7ea08b",
   "metadata": {},
   "outputs": [
    {
     "name": "stdout",
     "output_type": "stream",
     "text": [
      "   Unnamed: 0 tickers                names             gics_sector\n",
      "0           0     MMM                   3M             Industrials\n",
      "1           1     AOS          A. O. Smith             Industrials\n",
      "2           2     ABT               Abbott             Health Care\n",
      "3           3    ABBV               AbbVie             Health Care\n",
      "4           4     ACN            Accenture  Information Technology\n",
      "5           5    ATVI  Activision Blizzard  Communication Services\n",
      "6           6     ADM                  ADM        Consumer Staples\n",
      "7           7    ADBE           Adobe Inc.  Information Technology\n",
      "8           8     ADP                  ADP             Industrials\n",
      "9           9     AAP   Advance Auto Parts  Consumer Discretionary\n"
     ]
    }
   ],
   "source": [
    "#Check data properly loaded - for info\n",
    "query = \"SELECT * FROM sp500_name_info LIMIT 10\"\n",
    "df = pd.read_sql_query(query, conn)\n",
    "print(df)"
   ]
  },
  {
   "cell_type": "code",
   "execution_count": 5,
   "id": "1553bef2",
   "metadata": {},
   "outputs": [],
   "source": [
    "c.execute('ALTER TABLE sp500_name_info RENAME COLUMN tickers TO ticker')\n",
    "conn.commit()"
   ]
  },
  {
   "cell_type": "code",
   "execution_count": 6,
   "id": "15fa3171",
   "metadata": {},
   "outputs": [
    {
     "name": "stdout",
     "output_type": "stream",
     "text": [
      "         Date Symbol  Adj Close      Close       High        Low       Open  \\\n",
      "0  2019-01-02      A  63.616905  65.690002  66.570000  65.300003  66.500000   \n",
      "1  2019-01-03      A  61.273285  63.270000  65.779999  62.000000  65.529999   \n",
      "2  2019-01-04      A  63.394173  65.459999  65.949997  64.089996  64.089996   \n",
      "3  2019-01-07      A  64.740311  66.849998  67.430000  65.610001  65.639999   \n",
      "4  2019-01-08      A  65.689369  67.830002  68.209999  66.699997  67.589996   \n",
      "5  2019-01-09      A  67.064545  69.250000  69.660004  68.000000  68.199997   \n",
      "6  2019-01-10      A  67.694046  69.900002  69.949997  68.599998  69.050003   \n",
      "7  2019-01-11      A  68.158905  70.379997  70.410004  68.940002  69.290001   \n",
      "8  2019-01-14      A  67.548790  69.750000  70.290001  69.669998  69.720001   \n",
      "9  2019-01-15      A  68.371941  70.599998  70.750000  69.620003  69.949997   \n",
      "\n",
      "      Volume  \n",
      "0  2113300.0  \n",
      "1  5383900.0  \n",
      "2  3123700.0  \n",
      "3  3235100.0  \n",
      "4  1578100.0  \n",
      "5  2442300.0  \n",
      "6  1080900.0  \n",
      "7  1210800.0  \n",
      "8  2182700.0  \n",
      "9  1793100.0  \n"
     ]
    }
   ],
   "source": [
    "#Check data properly loaded - for price\n",
    "query = \"SELECT * FROM sp500_price LIMIT 10\"\n",
    "df = pd.read_sql_query(query, conn)\n",
    "print(df)"
   ]
  },
  {
   "cell_type": "code",
   "execution_count": 7,
   "id": "cbdef2ea",
   "metadata": {},
   "outputs": [
    {
     "name": "stdout",
     "output_type": "stream",
     "text": [
      "         date ticker  adj_close      Close       High        Low       Open  \\\n",
      "0  2019-01-02      A  63.616905  65.690002  66.570000  65.300003  66.500000   \n",
      "1  2019-01-03      A  61.273285  63.270000  65.779999  62.000000  65.529999   \n",
      "2  2019-01-04      A  63.394173  65.459999  65.949997  64.089996  64.089996   \n",
      "3  2019-01-07      A  64.740311  66.849998  67.430000  65.610001  65.639999   \n",
      "4  2019-01-08      A  65.689369  67.830002  68.209999  66.699997  67.589996   \n",
      "5  2019-01-09      A  67.064545  69.250000  69.660004  68.000000  68.199997   \n",
      "6  2019-01-10      A  67.694046  69.900002  69.949997  68.599998  69.050003   \n",
      "7  2019-01-11      A  68.158905  70.379997  70.410004  68.940002  69.290001   \n",
      "8  2019-01-14      A  67.548790  69.750000  70.290001  69.669998  69.720001   \n",
      "9  2019-01-15      A  68.371941  70.599998  70.750000  69.620003  69.949997   \n",
      "\n",
      "      Volume  \n",
      "0  2113300.0  \n",
      "1  5383900.0  \n",
      "2  3123700.0  \n",
      "3  3235100.0  \n",
      "4  1578100.0  \n",
      "5  2442300.0  \n",
      "6  1080900.0  \n",
      "7  1210800.0  \n",
      "8  2182700.0  \n",
      "9  1793100.0  \n"
     ]
    }
   ],
   "source": [
    "#rename Symbol column to tickers\n",
    "c.execute('ALTER TABLE sp500_price RENAME COLUMN Symbol TO ticker')\n",
    "c.execute('ALTER TABLE sp500_price RENAME COLUMN \"Adj Close\" TO adj_close')\n",
    "c.execute('ALTER TABLE sp500_price RENAME COLUMN Date TO date')\n",
    "conn.commit()\n",
    "\n",
    "query = \"SELECT * FROM sp500_price LIMIT 10\"\n",
    "df = pd.read_sql_query(query, conn)\n",
    "print(df)"
   ]
  },
  {
   "cell_type": "code",
   "execution_count": 8,
   "id": "00daed3f",
   "metadata": {},
   "outputs": [],
   "source": [
    "#drop multiple columns\n",
    "c.execute('ALTER TABLE sp500_price \\\n",
    "           DROP COLUMN close')\n",
    "c.execute('ALTER TABLE sp500_price \\\n",
    "           DROP COLUMN high')\n",
    "c.execute('ALTER TABLE sp500_price \\\n",
    "           DROP COLUMN low')\n",
    "c.execute('ALTER TABLE sp500_price \\\n",
    "           DROP COLUMN open')\n",
    "c.execute('ALTER TABLE sp500_price \\\n",
    "           DROP COLUMN volume')\n",
    "conn.commit()"
   ]
  },
  {
   "cell_type": "code",
   "execution_count": 9,
   "id": "68613630",
   "metadata": {},
   "outputs": [
    {
     "name": "stdout",
     "output_type": "stream",
     "text": [
      "               gics_sector  count\n",
      "0              Industrials     74\n",
      "1               Financials     72\n",
      "2   Information Technology     67\n",
      "3              Health Care     65\n",
      "4   Consumer Discretionary     53\n",
      "5         Consumer Staples     37\n",
      "6                Utilities     30\n",
      "7              Real Estate     30\n",
      "8                Materials     29\n",
      "9                   Energy     23\n",
      "10  Communication Services     23\n"
     ]
    }
   ],
   "source": [
    "#convert SQL result to a DataFrame on distinct sectors counts in s&p500\n",
    "                 \n",
    "c.execute(\"SELECT gics_sector, COUNT(*) AS `count` FROM sp500_name_info GROUP BY gics_sector ORDER BY count DESC\")\n",
    "\n",
    "pdf_sectorcount= pd.DataFrame(c.fetchall(), columns = ['gics_sector', 'count'])\n",
    "print (pdf_sectorcount)"
   ]
  },
  {
   "cell_type": "code",
   "execution_count": 112,
   "id": "c472a1f6",
   "metadata": {},
   "outputs": [
    {
     "data": {
      "image/png": "[encoded data removed]",
      "text/plain": [
       "<Figure size 640x480 with 1 Axes>"
      ]
     },
     "metadata": {},
     "output_type": "display_data"
    }
   ],
   "source": [
    "import matplotlib.pyplot as plt\n",
    "import numpy as np\n",
    "\n",
    "y = np.array([74,72,67,65,53,37,30,30,29,23,23])\n",
    "mylabels = [\"Industrials\", \"Financials\", \"Information Technology\", \"Health Care\",\\\n",
    "            \"Consumer Discretionary\", \"Consumer Staples\",\"Utilities\",\"Real Estate\", \\\n",
    "            \"Materials\", \"Energy\", \"Communication Services\"]\n",
    "myexplode = [0.2, 0.2, 0.1, 0.1, 0.1, 0.05, 0, 0, 0, 0, 0]\n",
    "\n",
    "def absolute_value(val):\n",
    "    a  = numpy.round(val/100.*y.sum(), 0)\n",
    "    return a\n",
    "\n",
    "plt.pie(y, labels = mylabels, explode = myexplode, autopct=absolute_value, shadow = True)\n",
    "plt.show()"
   ]
  },
  {
   "cell_type": "code",
   "execution_count": 10,
   "id": "a5c445bb",
   "metadata": {},
   "outputs": [],
   "source": [
    "#save Panda Dataframe to csv\n",
    "pdf_sectorcount.to_csv('sp500_sectorcount.csv')"
   ]
  },
  {
   "cell_type": "code",
   "execution_count": 15,
   "id": "1bb2d4ba",
   "metadata": {},
   "outputs": [
    {
     "name": "stdout",
     "output_type": "stream",
     "text": [
      "             adj_close ticker\n",
      "date                         \n",
      "2019-01-02  160.983093    MMM\n",
      "2019-01-03  154.921478    MMM\n",
      "2019-01-04  161.295029    MMM\n",
      "2019-01-07  160.924088    MMM\n",
      "2019-01-08  161.598526    MMM\n",
      "...                ...    ...\n",
      "2023-07-31  112.750000    XYL\n",
      "2023-08-01  111.930000    XYL\n",
      "2023-08-02  112.080002    XYL\n",
      "2023-08-03  108.400002    XYL\n",
      "2023-08-04  105.669998    XYL\n",
      "\n",
      "[84934 rows x 2 columns]\n"
     ]
    }
   ],
   "source": [
    "#join stock price table with stock info (sector) - industrial\n",
    "\n",
    "c.execute(\"SELECT sp500_price.date, sp500_price.adj_close, sp500_price.ticker \\\n",
    "            FROM sp500_price JOIN sp500_name_info ON (sp500_price.ticker=sp500_name_info.ticker) \\\n",
    "            WHERE gics_sector = 'Industrials'\")\n",
    "\n",
    "pdf_industrialprice= pd.DataFrame(c.fetchall(), columns = ['date', 'adj_close', 'ticker'])\n",
    "pdf_industrialprice.set_index('date', inplace=True) #set Date as the index.\n",
    "pdf_industrialprice.to_csv('sp500_industrialprice.csv')\n",
    "print (pdf_industrialprice)"
   ]
  },
  {
   "cell_type": "code",
   "execution_count": 16,
   "id": "69599ed5",
   "metadata": {},
   "outputs": [
    {
     "data": {
      "text/html": [
       "<div>\n",
       "<style scoped>\n",
       "    .dataframe tbody tr th:only-of-type {\n",
       "        vertical-align: middle;\n",
       "    }\n",
       "\n",
       "    .dataframe tbody tr th {\n",
       "        vertical-align: top;\n",
       "    }\n",
       "\n",
       "    .dataframe thead th {\n",
       "        text-align: right;\n",
       "    }\n",
       "</style>\n",
       "<table border=\"1\" class=\"dataframe\">\n",
       "  <thead>\n",
       "    <tr style=\"text-align: right;\">\n",
       "      <th></th>\n",
       "      <th>adj_close</th>\n",
       "    </tr>\n",
       "  </thead>\n",
       "  <tbody>\n",
       "    <tr>\n",
       "      <th>count</th>\n",
       "      <td>84934.000000</td>\n",
       "    </tr>\n",
       "    <tr>\n",
       "      <th>mean</th>\n",
       "      <td>141.340370</td>\n",
       "    </tr>\n",
       "    <tr>\n",
       "      <th>std</th>\n",
       "      <td>109.188019</td>\n",
       "    </tr>\n",
       "    <tr>\n",
       "      <th>min</th>\n",
       "      <td>9.040000</td>\n",
       "    </tr>\n",
       "    <tr>\n",
       "      <th>25%</th>\n",
       "      <td>62.196955</td>\n",
       "    </tr>\n",
       "    <tr>\n",
       "      <th>50%</th>\n",
       "      <td>112.890572</td>\n",
       "    </tr>\n",
       "    <tr>\n",
       "      <th>75%</th>\n",
       "      <td>189.096531</td>\n",
       "    </tr>\n",
       "    <tr>\n",
       "      <th>max</th>\n",
       "      <td>902.630005</td>\n",
       "    </tr>\n",
       "  </tbody>\n",
       "</table>\n",
       "</div>"
      ],
      "text/plain": [
       "          adj_close\n",
       "count  84934.000000\n",
       "mean     141.340370\n",
       "std      109.188019\n",
       "min        9.040000\n",
       "25%       62.196955\n",
       "50%      112.890572\n",
       "75%      189.096531\n",
       "max      902.630005"
      ]
     },
     "execution_count": 16,
     "metadata": {},
     "output_type": "execute_result"
    }
   ],
   "source": [
    "pdf_industrialprice.describe()"
   ]
  },
  {
   "cell_type": "code",
   "execution_count": 17,
   "id": "09b42e32",
   "metadata": {},
   "outputs": [
    {
     "name": "stdout",
     "output_type": "stream",
     "text": [
      "<class 'pandas.core.frame.DataFrame'>\n",
      "Index: 84934 entries, 2019-01-02 to 2023-08-04\n",
      "Data columns (total 2 columns):\n",
      " #   Column     Non-Null Count  Dtype  \n",
      "---  ------     --------------  -----  \n",
      " 0   adj_close  84934 non-null  float64\n",
      " 1   ticker     84934 non-null  object \n",
      "dtypes: float64(1), object(1)\n",
      "memory usage: 1.9+ MB\n"
     ]
    }
   ],
   "source": [
    "pdf_industrialprice.info()"
   ]
  },
  {
   "cell_type": "code",
   "execution_count": 18,
   "id": "d613c7ff",
   "metadata": {},
   "outputs": [],
   "source": [
    "#join stock price table with stock info (sector) - financials\n",
    "\n",
    "c.execute(\"SELECT sp500_price.date, sp500_price.adj_close, sp500_price.ticker \\\n",
    "            FROM sp500_price JOIN sp500_name_info ON (sp500_price.ticker=sp500_name_info.ticker) \\\n",
    "            WHERE gics_sector = 'Financials'\")\n",
    "\n",
    "pdf_financialprice = pd.DataFrame(c.fetchall(), columns = ['date', 'adj_close', 'ticker'])\n",
    "pdf_financialprice.set_index('date', inplace=True) #set Date as the index.\n",
    "\n",
    "pdf_financialprice.to_csv('sp500_financialprice.csv')"
   ]
  },
  {
   "cell_type": "code",
   "execution_count": 19,
   "id": "e5217fde",
   "metadata": {},
   "outputs": [],
   "source": [
    "#join stock price table with stock info (sector) - infotech\n",
    "\n",
    "c.execute(\"SELECT sp500_price.date, sp500_price.adj_close, sp500_price.ticker \\\n",
    "            FROM sp500_price JOIN sp500_name_info ON (sp500_price.ticker=sp500_name_info.ticker) \\\n",
    "            WHERE gics_sector = 'Information Technology'\")\n",
    "\n",
    "pdf_ITprice= pd.DataFrame(c.fetchall(), columns = ['date', 'adj_close', 'ticker'])\n",
    "pdf_ITprice.set_index('date', inplace=True) #set Date as the index.\n",
    "\n",
    "pdf_ITprice.to_csv('sp500_ITprice.csv')"
   ]
  },
  {
   "cell_type": "code",
   "execution_count": 20,
   "id": "d8a6afac",
   "metadata": {},
   "outputs": [],
   "source": [
    "#join stock price table with stock info (sector) - healthcare\n",
    "\n",
    "c.execute(\"SELECT sp500_price.date, sp500_price.adj_close, sp500_price.ticker \\\n",
    "            FROM sp500_price JOIN sp500_name_info ON (sp500_price.ticker=sp500_name_info.ticker) \\\n",
    "            WHERE gics_sector = 'Health Care'\")\n",
    "\n",
    "pdf_healthcprice= pd.DataFrame(c.fetchall(), columns = ['date', 'adj_close', 'ticker'])\n",
    "pdf_healthcprice.set_index('date', inplace=True) #set Date as the index.\n",
    "\n",
    "pdf_healthcprice.to_csv('sp500_healthcprice.csv')"
   ]
  },
  {
   "cell_type": "code",
   "execution_count": 21,
   "id": "318b5fec",
   "metadata": {},
   "outputs": [],
   "source": [
    "#join stock price table with stock info (sector) - consumerd\n",
    "\n",
    "c.execute(\"SELECT sp500_price.date, sp500_price.adj_close, sp500_price.ticker \\\n",
    "            FROM sp500_price JOIN sp500_name_info ON (sp500_price.ticker=sp500_name_info.ticker) \\\n",
    "            WHERE gics_sector = 'Consumer Discretionary'\")\n",
    "\n",
    "pdf_consumerdprice= pd.DataFrame(c.fetchall(), columns = ['date', 'adj_close', 'ticker'])\n",
    "pdf_consumerdprice.set_index('date', inplace=True) #set Date as the index.\n",
    "\n",
    "pdf_consumerdprice.to_csv('sp500_consumerdprice.csv')"
   ]
  },
  {
   "cell_type": "code",
   "execution_count": 22,
   "id": "90ee7182",
   "metadata": {},
   "outputs": [
    {
     "data": {
      "text/plain": [
       "84934"
      ]
     },
     "execution_count": 22,
     "metadata": {},
     "output_type": "execute_result"
    }
   ],
   "source": [
    "#load dataset to sql as table for all sectors\n",
    "pd.read_csv('sp500_industrialprice.csv').to_sql('sp500_industrial', con = conn, if_exists = 'replace', index = False)"
   ]
  },
  {
   "cell_type": "code",
   "execution_count": 23,
   "id": "b4051200",
   "metadata": {},
   "outputs": [
    {
     "data": {
      "text/plain": [
       "77451"
      ]
     },
     "execution_count": 23,
     "metadata": {},
     "output_type": "execute_result"
    }
   ],
   "source": [
    "pd.read_csv('sp500_ITprice.csv').to_sql('sp500_infotech', con = conn, if_exists = 'replace', index = False)"
   ]
  },
  {
   "cell_type": "code",
   "execution_count": 24,
   "id": "530f530e",
   "metadata": {},
   "outputs": [
    {
     "data": {
      "text/plain": [
       "73547"
      ]
     },
     "execution_count": 24,
     "metadata": {},
     "output_type": "execute_result"
    }
   ],
   "source": [
    "pd.read_csv('sp500_healthcprice.csv').to_sql('sp500_healthc', con = conn, if_exists = 'replace', index = False)"
   ]
  },
  {
   "cell_type": "code",
   "execution_count": 25,
   "id": "8a88459a",
   "metadata": {},
   "outputs": [
    {
     "data": {
      "text/plain": [
       "82076"
      ]
     },
     "execution_count": 25,
     "metadata": {},
     "output_type": "execute_result"
    }
   ],
   "source": [
    "pd.read_csv('sp500_financialprice.csv').to_sql('sp500_financials', con = conn, if_exists = 'replace', index = False)"
   ]
  },
  {
   "cell_type": "code",
   "execution_count": 26,
   "id": "cd982513",
   "metadata": {},
   "outputs": [
    {
     "data": {
      "text/plain": [
       "61268"
      ]
     },
     "execution_count": 26,
     "metadata": {},
     "output_type": "execute_result"
    }
   ],
   "source": [
    "pd.read_csv('sp500_consumerdprice.csv').to_sql('sp500_consumerd', con = conn, if_exists = 'replace', index = False)"
   ]
  },
  {
   "cell_type": "markdown",
   "id": "63ae600d",
   "metadata": {},
   "source": [
    "Notes: Greater flexibility (to update/replace content) by saving query to csv file and load it to db as table. "
   ]
  },
  {
   "cell_type": "code",
   "execution_count": null,
   "id": "cdbef3d1",
   "metadata": {},
   "outputs": [],
   "source": [
    "'''Alternative method:\n",
    "\n",
    "c.execute(\"CREATE TABLE sp500_industrial \\\n",
    "            AS \\\n",
    "            SELECT \\\n",
    "            sp500_price.date, sp500_price.adj_close, sp500_price.ticker \\\n",
    "            FROM sp500_price JOIN sp500_name_info ON (sp500_price.ticker=sp500_name_info.ticker) \\\n",
    "            WHERE gics_sector = 'Industrials'\")\n",
    "\n",
    "conn.commit()'''"
   ]
  },
  {
   "cell_type": "code",
   "execution_count": 27,
   "id": "8070db5d",
   "metadata": {},
   "outputs": [
    {
     "data": {
      "text/plain": [
       "<sqlite3.Cursor at 0x228ae1f9fc0>"
      ]
     },
     "execution_count": 27,
     "metadata": {},
     "output_type": "execute_result"
    }
   ],
   "source": [
    "#rename each sector daily adjust close price (mean) as respective sector\n",
    "\n",
    "c.execute('ALTER TABLE sp500_industrial RENAME COLUMN adj_close TO industrial')\n",
    "c.execute('ALTER TABLE sp500_financials RENAME COLUMN adj_close TO financials')\n",
    "c.execute('ALTER TABLE sp500_infotech RENAME COLUMN adj_close TO info_tech')\n",
    "c.execute('ALTER TABLE sp500_healthc RENAME COLUMN adj_close TO healthc')\n",
    "c.execute('ALTER TABLE sp500_consumerd RENAME COLUMN adj_close TO consumerd')"
   ]
  },
  {
   "cell_type": "code",
   "execution_count": 28,
   "id": "76191c1e",
   "metadata": {},
   "outputs": [
    {
     "name": "stdout",
     "output_type": "stream",
     "text": [
      "         date   consumerd ticker\n",
      "0  2019-01-02  146.353149    AAP\n",
      "1  2019-01-03  150.922089    AAP\n",
      "2  2019-01-04  147.177948    AAP\n"
     ]
    }
   ],
   "source": [
    "#Check data properly updated\n",
    "query = \"SELECT * FROM sp500_consumerd LIMIT 3\"\n",
    "df = pd.read_sql_query(query, conn)\n",
    "print(df)"
   ]
  },
  {
   "cell_type": "code",
   "execution_count": 29,
   "id": "a75971ac",
   "metadata": {},
   "outputs": [
    {
     "data": {
      "text/plain": [
       "<sqlite3.Cursor at 0x228ae1f9fc0>"
      ]
     },
     "execution_count": 29,
     "metadata": {},
     "output_type": "execute_result"
    }
   ],
   "source": [
    "#make a copy of all tables as the next step will drop tickers columns. Future analysis can be done using previous tables with tickers info. \n",
    "\n",
    "c.execute('CREATE TABLE newsp500_industrial AS SELECT * FROM sp500_industrial')\n",
    "c.execute('CREATE TABLE newsp500_financials AS SELECT * FROM sp500_financials')\n",
    "c.execute('CREATE TABLE newsp500_infotech AS SELECT * FROM sp500_infotech')\n",
    "c.execute('CREATE TABLE newsp500_healthc AS SELECT * FROM sp500_healthc')\n",
    "c.execute('CREATE TABLE newsp500_consumerd AS SELECT * FROM sp500_consumerd')"
   ]
  },
  {
   "cell_type": "code",
   "execution_count": 30,
   "id": "e7ac6266",
   "metadata": {},
   "outputs": [],
   "source": [
    "c.execute('ALTER TABLE newsp500_industrial DROP COLUMN ticker')\n",
    "c.execute('ALTER TABLE newsp500_financials DROP COLUMN ticker')\n",
    "c.execute('ALTER TABLE newsp500_infotech DROP COLUMN ticker')\n",
    "c.execute('ALTER TABLE newsp500_healthc DROP COLUMN ticker')\n",
    "c.execute('ALTER TABLE newsp500_consumerd DROP COLUMN ticker')\n",
    "conn.commit()"
   ]
  },
  {
   "cell_type": "code",
   "execution_count": 50,
   "id": "71e09948",
   "metadata": {},
   "outputs": [
    {
     "name": "stdout",
     "output_type": "stream",
     "text": [
      "            date  mean_industrial\n",
      "0     2019-01-02        91.181620\n",
      "1     2019-01-03        88.510124\n",
      "2     2019-01-04        92.013966\n",
      "3     2019-01-07        92.524445\n",
      "4     2019-01-08        93.727887\n",
      "...          ...              ...\n",
      "1151  2023-07-31       189.586031\n",
      "1152  2023-08-01       189.677052\n",
      "1153  2023-08-02       187.623149\n",
      "1154  2023-08-03       186.817162\n",
      "1155  2023-08-04       185.693243\n",
      "\n",
      "[1156 rows x 2 columns]\n"
     ]
    }
   ],
   "source": [
    "#tabulate daily mean for 5 years for each sectors\n",
    "\n",
    "query = \"SELECT date, AVG(industrial) AS mean_industrial FROM newsp500_industrial GROUP BY date\"\n",
    "pdfmean_industrial = pd.read_sql_query(query, conn)\n",
    "print(mean_industrial)"
   ]
  },
  {
   "cell_type": "code",
   "execution_count": 82,
   "id": "1fc66edc",
   "metadata": {},
   "outputs": [
    {
     "data": {
      "text/plain": [
       "1156"
      ]
     },
     "execution_count": 82,
     "metadata": {},
     "output_type": "execute_result"
    }
   ],
   "source": [
    "c.execute(\"SELECT date, AVG(industrial) AS mean_industrial FROM newsp500_industrial GROUP BY date\")\n",
    "\n",
    "df = pd.DataFrame(c.fetchall(), columns = ['date1', 'm_industrial'])\n",
    "df.set_index('date1', inplace=True) #set Date as the index.\n",
    "\n",
    "df.to_csv('msp500_industrial.csv')\n",
    "pd.read_csv('msp500_industrial.csv').to_sql('msp500_industrial', con = conn, if_exists = 'replace', index = False)"
   ]
  },
  {
   "cell_type": "code",
   "execution_count": 83,
   "id": "a3208c12",
   "metadata": {},
   "outputs": [
    {
     "data": {
      "text/plain": [
       "1156"
      ]
     },
     "execution_count": 83,
     "metadata": {},
     "output_type": "execute_result"
    }
   ],
   "source": [
    "c.execute(\"SELECT date, AVG(financials) AS mean_financials FROM newsp500_financials GROUP BY date\")\n",
    "\n",
    "df = pd.DataFrame(c.fetchall(), columns = ['date2', 'm_financials'])\n",
    "df.set_index('date2', inplace=True) #set Date as the index.\n",
    "\n",
    "df.to_csv('msp500_financials.csv')\n",
    "pd.read_csv('msp500_financials.csv').to_sql('msp500_financials', con = conn, if_exists = 'replace', index = False)"
   ]
  },
  {
   "cell_type": "code",
   "execution_count": 86,
   "id": "6f5ed0b6",
   "metadata": {},
   "outputs": [
    {
     "data": {
      "text/plain": [
       "1156"
      ]
     },
     "execution_count": 86,
     "metadata": {},
     "output_type": "execute_result"
    }
   ],
   "source": [
    "c.execute(\"SELECT date, AVG(info_tech) AS mean_infotech FROM newsp500_infotech GROUP BY date\")\n",
    "\n",
    "df = pd.DataFrame(c.fetchall(), columns = ['date3', 'm_infotech'])\n",
    "df.set_index('date3', inplace=True) #set Date as the index.\n",
    "\n",
    "df.to_csv('msp500_infotech.csv')\n",
    "pd.read_csv('msp500_infotech.csv').to_sql('msp500_infotech', con = conn, if_exists = 'replace', index = False)"
   ]
  },
  {
   "cell_type": "code",
   "execution_count": 87,
   "id": "8a5c91c9",
   "metadata": {},
   "outputs": [
    {
     "data": {
      "text/plain": [
       "1156"
      ]
     },
     "execution_count": 87,
     "metadata": {},
     "output_type": "execute_result"
    }
   ],
   "source": [
    "c.execute(\"SELECT date, AVG(healthc) AS mean_healthc FROM newsp500_healthc GROUP BY date\")\n",
    "\n",
    "df = pd.DataFrame(c.fetchall(), columns = ['date4', 'm_healthc'])\n",
    "df.set_index('date4', inplace=True) #set Date as the index.\n",
    "\n",
    "df.to_csv('msp500_healthc.csv')\n",
    "pd.read_csv('msp500_healthc.csv').to_sql('msp500_healthc', con = conn, if_exists = 'replace', index = False)"
   ]
  },
  {
   "cell_type": "code",
   "execution_count": 88,
   "id": "af71aa8b",
   "metadata": {},
   "outputs": [
    {
     "data": {
      "text/plain": [
       "1156"
      ]
     },
     "execution_count": 88,
     "metadata": {},
     "output_type": "execute_result"
    }
   ],
   "source": [
    "c.execute(\"SELECT date, AVG(consumerd) AS mean_consumerd FROM newsp500_consumerd GROUP BY date\")\n",
    "\n",
    "df = pd.DataFrame(c.fetchall(), columns = ['date5', 'm_consumerd'])\n",
    "df.set_index('date5', inplace=True) #set Date as the index.\n",
    "\n",
    "df.to_csv('msp500_consumerd.csv')\n",
    "pd.read_csv('msp500_consumerd.csv').to_sql('msp500_consumerd', con = conn, if_exists = 'replace', index = False)"
   ]
  },
  {
   "cell_type": "code",
   "execution_count": 98,
   "id": "769b8b54",
   "metadata": {},
   "outputs": [],
   "source": [
    "#create new table with daily mean data from all 5 sectors\n",
    "\n",
    "c.execute(\"CREATE TABLE sp500_sectormean \\\n",
    "           AS \\\n",
    "           SELECT date1, m_industrial, m_financials, m_infotech, m_healthc,m_consumerd \\\n",
    "         FROM msp500_financials \\\n",
    "         JOIN msp500_industrial ON msp500_industrial.date1 = msp500_financials.date2 \\\n",
    "         JOIN msp500_infotech ON msp500_industrial.date1 = msp500_infotech.date3 \\\n",
    "         JOIN msp500_healthc ON msp500_industrial.date1 = msp500_healthc.date4 \\\n",
    "         JOIN msp500_consumerd ON msp500_industrial.date1 = msp500_consumerd.date5\")\n",
    "\n",
    "conn.commit()"
   ]
  },
  {
   "cell_type": "code",
   "execution_count": 102,
   "id": "8641b913",
   "metadata": {},
   "outputs": [
    {
     "name": "stdout",
     "output_type": "stream",
     "text": [
      "            m_industrial  m_financials  m_infotech   m_healthc  m_consumerd\n",
      "date1                                                                      \n",
      "2019-01-02     91.181620     79.832870   82.037837  124.108827   175.019870\n",
      "2019-01-03     88.510124     78.096261   78.581298  120.718783   172.014207\n",
      "2019-01-04     92.013966     80.733547   81.791674  124.607095   175.863052\n",
      "2019-01-07     92.524445     80.933418   83.149961  125.695130   178.594608\n",
      "2019-01-08     93.727887     81.296899   84.043969  127.373960   179.309774\n",
      "...                  ...           ...         ...         ...          ...\n",
      "2023-07-31    189.586031    144.571252  232.017041  230.643690   392.334002\n",
      "2023-08-01    189.677052    144.650561  231.827787  229.817539   391.078123\n",
      "2023-08-02    187.623149    143.710496  224.344278  230.216461   387.237253\n",
      "2023-08-03    186.817162    143.372958  224.394850  229.111845   385.294527\n",
      "2023-08-04    185.693243    142.740563  222.431495  228.024308   389.515662\n",
      "\n",
      "[1156 rows x 5 columns]\n"
     ]
    }
   ],
   "source": [
    "query = \"SELECT * FROM sp500_sectormean\"\n",
    "df = pd.read_sql_query(query, conn)\n",
    "df.set_index('date1', inplace=True) #set Date as the index.\n",
    "df.to_csv('sp500_sectormean.csv')\n",
    "\n",
    "print(df)"
   ]
  },
  {
   "cell_type": "markdown",
   "id": "10760e20",
   "metadata": {},
   "source": [
    "Using above, we can start EDA. \n"
   ]
  }
 ],
 "metadata": {
  "kernelspec": {
   "display_name": "Python 3 (ipykernel)",
   "language": "python",
   "name": "python3"
  },
  "language_info": {
   "codemirror_mode": {
    "name": "ipython",
    "version": 3
   },
   "file_extension": ".py",
   "mimetype": "text/x-python",
   "name": "python",
   "nbconvert_exporter": "python",
   "pygments_lexer": "ipython3",
   "version": "3.10.12"
  }
 },
 "nbformat": 4,
 "nbformat_minor": 5
}
